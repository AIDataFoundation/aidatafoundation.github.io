{
 "cells": [
  {
   "cell_type": "code",
   "execution_count": null,
   "id": "af3fbf25-0a45-468e-9ea3-8e59c043fb8a",
   "metadata": {},
   "outputs": [],
   "source": [
    "### List and loops - Level 1 \n",
    "\n",
    "- list store multipe values \n",
    "- use 'for` loop to go through them "
   ]
  },
  {
   "cell_type": "code",
   "execution_count": 1,
   "id": "c86be3ed-80aa-46f7-9db8-06af175366af",
   "metadata": {},
   "outputs": [
    {
     "name": "stdout",
     "output_type": "stream",
     "text": [
      "2\n",
      "6\n",
      "10\n",
      "15.8\n"
     ]
    }
   ],
   "source": [
    "numbers = [1,3,5,7.9]\n",
    "## TODO :  Print each number multplied by 2\n",
    "for num in numbers:\n",
    "    print(num *2)"
   ]
  },
  {
   "cell_type": "code",
   "execution_count": null,
   "id": "5676b21b-0ca6-49e4-97d5-f408402d98a0",
   "metadata": {},
   "outputs": [],
   "source": [
    "## mini quiz \n",
    "Q1. What is the index of number 5 in the list \n",
    "Q2> How do you change 7 to 100 ?"
   ]
  },
  {
   "cell_type": "code",
   "execution_count": null,
   "id": "08f113a8-4072-4141-bb61-40675f919dc9",
   "metadata": {},
   "outputs": [],
   "source": [
    "## stack - Level 2 \n",
    "- Last in first out ( like a stack or pankcakes)\n",
    "- use `append()` and `pop` in python "
   ]
  },
  {
   "cell_type": "code",
   "execution_count": 3,
   "id": "83102184-44fa-47fb-bf3b-bd2810692eef",
   "metadata": {},
   "outputs": [
    {
     "name": "stdout",
     "output_type": "stream",
     "text": [
      "POP: 🧱 Block 2\n",
      "Stack now: ['🧱 Block 1']\n"
     ]
    }
   ],
   "source": [
    "stack = []\n",
    "\n",
    "stack.append(\"🧱 Block 1\")\n",
    "stack.append(\"🧱 Block 2\")\n",
    "print(\"POP:\", stack.pop())  # Block 2\n",
    "print(\"Stack now:\", stack)"
   ]
  },
  {
   "cell_type": "code",
   "execution_count": 5,
   "id": "5f0f924f-50d5-4319-bb94-3dc898688947",
   "metadata": {},
   "outputs": [
    {
     "name": "stdout",
     "output_type": "stream",
     "text": [
      "30\n",
      "20\n",
      "10\n"
     ]
    }
   ],
   "source": [
    "# Challenge: Reverse a list using a stack\n",
    "my_list = [10, 20, 30]\n",
    "stack = []\n",
    "\n",
    "# PUSH\n",
    "for item in my_list:\n",
    "    stack.append(item)\n",
    "\n",
    "# POP\n",
    "while stack:\n",
    "    print(stack.pop())"
   ]
  },
  {
   "cell_type": "code",
   "execution_count": null,
   "id": "e2d37c5b-1a9c-4982-a129-3f336bca1c39",
   "metadata": {},
   "outputs": [],
   "source": [
    "## String and Patterns - The Nijan of text \n",
    "\n",
    "- string indexing and slicing \n",
    "- you can use indexing to access charcater and slicing to extract parts \n"
   ]
  },
  {
   "cell_type": "code",
   "execution_count": 7,
   "id": "d4ab616b-36ba-4929-a2ee-dc225d004bd8",
   "metadata": {},
   "outputs": [
    {
     "name": "stdout",
     "output_type": "stream",
     "text": [
      "First letter: p\n",
      "Last letter: n\n",
      "First 3 letters: pyt\n",
      "Reversed word: nohtyp\n"
     ]
    }
   ],
   "source": [
    "word = \"python\"\n",
    "\n",
    "print(\"First letter:\", word[0])        # Output: p\n",
    "print(\"Last letter:\", word[-1])        # Output: n\n",
    "print(\"First 3 letters:\", word[:3])    # Output: pyt\n",
    "print(\"Reversed word:\", word[::-1])    # Output: nohtyp"
   ]
  },
  {
   "cell_type": "code",
   "execution_count": null,
   "id": "d22b1f92-081c-4285-b615-ea96203b00d3",
   "metadata": {},
   "outputs": [],
   "source": [
    "## Palindrome Checker \n",
    "\n",
    "- A string is a palindorme if it reads the same backend \n",
    "- example : madam , racecar "
   ]
  },
  {
   "cell_type": "code",
   "execution_count": 23,
   "id": "4546b9e4-24e8-41ef-9270-b7e5d5e6d5c3",
   "metadata": {},
   "outputs": [
    {
     "name": "stdout",
     "output_type": "stream",
     "text": [
      "True\n",
      "False\n"
     ]
    }
   ],
   "source": [
    "def is_palindrome(s):\n",
    "    return s == s[::-1]\n",
    "print(is_palindrome(\"madam\"))  #true\n",
    "print(is_palindrome(\"pthon\"))  #false"
   ]
  },
  {
   "cell_type": "code",
   "execution_count": null,
   "id": "d0634391-a22a-487e-b252-97fc0ff1d554",
   "metadata": {},
   "outputs": [],
   "source": [
    "### Frequency Counter \n",
    "- count how many times each letter appears \n",
    "- use in Puzzles , security and AI Token analysis , etc "
   ]
  },
  {
   "cell_type": "code",
   "execution_count": 25,
   "id": "5a0ad4b6-7f08-41c7-a521-4248d9f4d76f",
   "metadata": {},
   "outputs": [
    {
     "name": "stdout",
     "output_type": "stream",
     "text": [
      "{'b': 1, 'a': 3, 'n': 2}\n"
     ]
    }
   ],
   "source": [
    "def char_frequency(s):\n",
    "    freq = {}\n",
    "    for char in s:\n",
    "        freq[char] = freq.get(char, 0) + 1\n",
    "    return freq\n",
    "\n",
    "print(char_frequency(\"banana\"))  \n",
    "# Output: {'b': 1, 'a': 3, 'n': 2}"
   ]
  },
  {
   "cell_type": "code",
   "execution_count": null,
   "id": "dce26bb1-4f7a-483d-9d5e-31a764bd3715",
   "metadata": {},
   "outputs": [],
   "source": [
    "## sliding window pattern \n",
    "\n",
    "- used to analyze sub-parts odf string effeciently \n",
    "- here : find the max number of vowels in a substring of size k "
   ]
  },
  {
   "cell_type": "code",
   "execution_count": 27,
   "id": "0b8d1898-8c11-4af1-ad51-895369ccec00",
   "metadata": {},
   "outputs": [
    {
     "name": "stdout",
     "output_type": "stream",
     "text": [
      "5\n"
     ]
    }
   ],
   "source": [
    "def max_vowels(s, k):\n",
    "    vowels = \"aeiou\"\n",
    "    max_count = count = 0\n",
    "\n",
    "    for i in range(len(s)):\n",
    "        if s[i] in vowels:\n",
    "            count += 1\n",
    "        if i >= k and s[i - k] in vowels:\n",
    "            count -= 1\n",
    "        max_count = max(max_count, count)\n",
    "\n",
    "    return max_count\n",
    "\n",
    "print(max_vowels(\"hellothereaeiou\", 5))  # Output: 5    "
   ]
  },
  {
   "cell_type": "code",
   "execution_count": null,
   "id": "00de3965-c196-4ee7-9150-d09eb0528ac7",
   "metadata": {},
   "outputs": [],
   "source": [
    "## Fisrt Non Peapeating Character \n",
    "- find the first character that doesn't reapeat in as string "
   ]
  },
  {
   "cell_type": "code",
   "execution_count": 38,
   "id": "eab1afa8-85d0-47dc-9142-2da6c6055ff2",
   "metadata": {},
   "outputs": [
    {
     "name": "stdout",
     "output_type": "stream",
     "text": [
      "f\n"
     ]
    }
   ],
   "source": [
    "def first_unique_char(s):\n",
    "    freq = {}\n",
    "    for char in s:\n",
    "         freq[char] = freq.get(char,0) + 1\n",
    "    for char in s:    \n",
    "        if freq[char] == 1:\n",
    "          return char\n",
    "    return None \n",
    "print(first_unique_char(\"aabbccddeeefg\")) #ouput = f"
   ]
  },
  {
   "cell_type": "code",
   "execution_count": null,
   "id": "1149bb84-2b8d-4eb1-8185-f696b9083302",
   "metadata": {},
   "outputs": [],
   "source": [
    "## Binary search and Recursion - Sword & Shield of coders\n",
    "\n",
    "- Binary search \n",
    "- effecient way to search sorted arrays \n",
    "- time complexity : O(log n) - SUPER FAST \n",
    "- Divide the array in half , check middle , repeat "
   ]
  },
  {
   "cell_type": "code",
   "execution_count": 53,
   "id": "9c7843db-99ba-4f5c-aa50-f4166257fdfd",
   "metadata": {},
   "outputs": [
    {
     "name": "stdout",
     "output_type": "stream",
     "text": [
      "2\n"
     ]
    }
   ],
   "source": [
    "def binary_search(arr , target): \n",
    "     low = 0 \n",
    "     high = len(arr) - 1\n",
    "    \n",
    "     while low <= high:\n",
    "      mid = (low + high) // 2 \n",
    "      if arr[mid] == target:\n",
    "          return mid \n",
    "      elif arr[mid] < target:\n",
    "         low = mid + 1 \n",
    "      else:\n",
    "          high = mid - 1 \n",
    "\n",
    "     return -1\n",
    "\n",
    "nums = [1,3,5,7,9,11]\n",
    "print(binary_search(nums,5)) ##output: 2 \n"
   ]
  },
  {
   "cell_type": "code",
   "execution_count": null,
   "id": "f925ef29-127c-4be1-bbd0-2eb2ec6c2281",
   "metadata": {},
   "outputs": [],
   "source": [
    "# What will this return?\n",
    "print(binary_search([10, 20, 30, 40, 50], 40))  # 👉 ?"
   ]
  },
  {
   "cell_type": "code",
   "execution_count": null,
   "id": "2ee07277-eb01-4829-9488-00eeca33ce95",
   "metadata": {},
   "outputs": [],
   "source": [
    "## Recusive Thinking \n",
    "\n",
    "- A function calls itself to break a big task into smaller ones \n",
    "- used in tree algorithms, backtracking , DP "
   ]
  },
  {
   "cell_type": "code",
   "execution_count": 57,
   "id": "f9611cd0-d80c-4c4b-a550-b3ec2a7c3122",
   "metadata": {},
   "outputs": [
    {
     "name": "stdout",
     "output_type": "stream",
     "text": [
      "120\n"
     ]
    }
   ],
   "source": [
    "def factorial(n):\n",
    "    if n == 0 or n == 1:\n",
    "        return 1 \n",
    "    return n * factorial(n -1 ) \n",
    "print(factorial(5)) #output : 120 "
   ]
  },
  {
   "cell_type": "code",
   "execution_count": 64,
   "id": "236919a7-947b-48ed-ab07-280b691c64ad",
   "metadata": {},
   "outputs": [
    {
     "name": "stdout",
     "output_type": "stream",
     "text": [
      "8\n"
     ]
    }
   ],
   "source": [
    "## fibonacci using recusion \n",
    "\n",
    "def fib(n):\n",
    "    if n <= 1:\n",
    "        return n\n",
    "    return fib(n-1) + fib(n-2)\n",
    "\n",
    "print(fib(6))  # Output: 8\n",
    "\n",
    "## note recusive fibonacci is slow - we fix that later with DP ( Dynamic Programming) "
   ]
  },
  {
   "cell_type": "code",
   "execution_count": 76,
   "id": "3b8b0c5f-09c5-4978-843a-795ad983bcf5",
   "metadata": {},
   "outputs": [
    {
     "name": "stdout",
     "output_type": "stream",
     "text": [
      "2\n"
     ]
    }
   ],
   "source": [
    "## binary search with recursion \n",
    "\n",
    "def binary_search_rec(arr,target,low,high):\n",
    "    if low > high:\n",
    "        return -1 \n",
    "    mid = (low + high) \n",
    "    if arr[mid] == target:\n",
    "     return mid \n",
    "    elif arr[mid] < target: \n",
    "       return binary_search_rec(arr , target , mid +1 , high) \n",
    "    else:\n",
    "       return binary_search_rec(arr, target , low , mid - 1) \n",
    "nums = [2, 4, 6, 8, 10]\n",
    "print(binary_search_rec(nums, 6, 0, len(nums)-1))  # Output: 2"
   ]
  },
  {
   "cell_type": "code",
   "execution_count": 89,
   "id": "e101b1b6-3474-414e-9c50-ef01c2758d75",
   "metadata": {},
   "outputs": [
    {
     "name": "stdout",
     "output_type": "stream",
     "text": [
      "5\n"
     ]
    }
   ],
   "source": [
    "## Bonus Puzzle: count Digit recusively \n",
    "def count_digits(n):\n",
    "    if n == 0:\n",
    "        return 0\n",
    "    return 1 + count_digits(n // 10)\n",
    "\n",
    "print(count_digits(12345))  # Output: 5 "
   ]
  },
  {
   "cell_type": "code",
   "execution_count": null,
   "id": "960f5f77-3571-4f26-933b-1c6dc482c21b",
   "metadata": {},
   "outputs": [],
   "source": [
    "## sorting algorithms\n",
    "- bubble sort - O(n^2) - comparisoon - stable \n",
    "- merge sort -  O(n log n) - Divide & Conquer - stable \n",
    "- Quick Sort - O(n log n) average - Divide & Conquer - not stable \n",
    "- Insertion sort - O(n^2) - comparison - stable \n"
   ]
  },
  {
   "cell_type": "code",
   "execution_count": 94,
   "id": "ebb89d96-063a-46bd-ad2a-3a6d6053ebac",
   "metadata": {},
   "outputs": [
    {
     "name": "stdout",
     "output_type": "stream",
     "text": [
      "[1, 2, 4, 5, 8]\n"
     ]
    }
   ],
   "source": [
    "## Bubble Sort - The basic Bouncer \n",
    "def bubble_sort(arr):\n",
    "    n = len(arr)\n",
    "    for i in range(n):\n",
    "        for j in range(n - i - 1):\n",
    "            if arr[j] > arr[j + 1]:\n",
    "                arr[j], arr[j + 1] = arr[j + 1], arr[j]\n",
    "    return arr\n",
    "\n",
    "print(bubble_sort([5, 1, 4, 2, 8]))  # Output: [1, 2, 4, 5, 8]\n",
    "\n",
    "## every pass pushes the biggest number to the end like bubble"
   ]
  },
  {
   "cell_type": "code",
   "execution_count": 102,
   "id": "6530f8de-babc-4567-aa06-5ef69cbe0aac",
   "metadata": {},
   "outputs": [
    {
     "name": "stdout",
     "output_type": "stream",
     "text": [
      "[3, 9, 27, 38, 43]\n"
     ]
    }
   ],
   "source": [
    "## Merge Sort - The Smart Splitter \n",
    "def merge_sort(arr):\n",
    "    if len(arr) <= 1:\n",
    "        return arr\n",
    "\n",
    "    mid = len(arr) // 2\n",
    "    left = merge_sort(arr[:mid])\n",
    "    right = merge_sort(arr[mid:])\n",
    "\n",
    "    return merge(left, right)\n",
    "\n",
    "def merge(left, right):\n",
    "    result = []\n",
    "    i = j = 0\n",
    "\n",
    "    while i < len(left) and j < len(right):\n",
    "        if left[i] < right[j]:\n",
    "            result.append(left[i])\n",
    "            i += 1\n",
    "        else:\n",
    "            result.append(right[j])\n",
    "            j += 1\n",
    "\n",
    "    result.extend(left[i:])\n",
    "    result.extend(right[j:])\n",
    "    return result\n",
    "\n",
    "print(merge_sort([38, 27, 43, 3, 9]))  # Output: [3, 9, 27, 38, 43]\n",
    "                  \n",
    "   ### Great for massive lists and always consistent (O(n log n))."
   ]
  },
  {
   "cell_type": "code",
   "execution_count": 104,
   "id": "f7f36883-26f3-41cb-98da-ef63eec035ee",
   "metadata": {},
   "outputs": [
    {
     "name": "stdout",
     "output_type": "stream",
     "text": [
      "[1, 5, 7, 8, 9, 10]\n"
     ]
    }
   ],
   "source": [
    "def quick_sort(arr):\n",
    "    if len(arr) <= 1:\n",
    "        return arr\n",
    "\n",
    "    pivot = arr[0]\n",
    "    less = [x for x in arr[1:] if x <= pivot]\n",
    "    greater = [x for x in arr[1:] if x > pivot]\n",
    "\n",
    "    return quick_sort(less) + [pivot] + quick_sort(greater)\n",
    "\n",
    "print(quick_sort([10, 7, 8, 9, 1, 5]))  # Output: [1, 5, 7, 8, 9, 10]"
   ]
  },
  {
   "cell_type": "code",
   "execution_count": null,
   "id": "6a57ebe4-ba4d-442a-954b-b05df44aefd3",
   "metadata": {},
   "outputs": [],
   "source": [
    "Quick Sort is a Divide & Conquer algorithm.\n",
    "\t•\tIt picks a pivot element and partitions the list:\n",
    "\t•\tLeft side ⬅️: elements ≤ pivot\n",
    "\t•\tRight side ➡️: elements > pivot\n",
    "\t•\tThen it recursively sorts both sides and merges them.\n",
    "\n",
    "Input: [10, 7, 8, 9, 1, 5]\n",
    "\n",
    "pivot: 10\n",
    " ├── less: [7, 8, 9, 1, 5]\n",
    " │    ├── pivot: 7\n",
    " │    │   ├── less: [1, 5] → [1, 5]\n",
    " │    │   └── greater: [8, 9] → [8, 9]\n",
    " │    └── combined: [1, 5, 7, 8, 9]\n",
    " └── greater: []\n",
    "\n",
    "Final: [1, 5, 7, 8, 9, 10]"
   ]
  },
  {
   "cell_type": "code",
   "execution_count": 106,
   "id": "b14eab25-68ac-4b49-b35a-096624f1c982",
   "metadata": {},
   "outputs": [
    {
     "name": "stdout",
     "output_type": "stream",
     "text": [
      "[1, 4, 5, 9]\n"
     ]
    }
   ],
   "source": [
    "## Insertion Sort (good for tiny data) \n",
    "def insertion_sort(arr):\n",
    "    for i in range(1, len(arr)):\n",
    "        key = arr[i]\n",
    "        j = i - 1\n",
    "\n",
    "        while j >= 0 and key < arr[j]:\n",
    "            arr[j + 1] = arr[j]\n",
    "            j -= 1\n",
    "\n",
    "        arr[j + 1] = key\n",
    "\n",
    "    return arr\n",
    "\n",
    "print(insertion_sort([9, 5, 1, 4]))  # Output: [1, 4, 5, 9]\n"
   ]
  },
  {
   "cell_type": "code",
   "execution_count": null,
   "id": "a5e1a748-7f61-4cef-bf6e-deadce7c59fb",
   "metadata": {},
   "outputs": [],
   "source": [
    "Dynamic Programming (DP) \n",
    "- Dynamic Programming is about solving complex problems by breaking them down into smaller overlapping subproblem \n",
    "  and storing their solutios \n",
    "\n",
    "Two Main Flavors of DP \n",
    "\n",
    "Top-Down  - Recusive + Memorization (cache) - fibonanci (recusive) \n",
    "bottom-up - itertive + table (tabulation) - fibonaci (loop) "
   ]
  },
  {
   "cell_type": "code",
   "execution_count": null,
   "id": "e7a29afc-2a3e-4eef-92dc-ed46ae0870ef",
   "metadata": {},
   "outputs": [],
   "source": [
    "## recusion ( slow , repeated work) \n",
    "\n",
    "def fib(n):\n",
    "    if n <=1:\n",
    "        return n \n",
    "    return fib(n-1) + fib(n-2) \n",
    "print(fib(6) # 8 "
   ]
  },
  {
   "cell_type": "code",
   "execution_count": null,
   "id": "1b9da870-32fa-48c4-a3ca-217521f03d3c",
   "metadata": {},
   "outputs": [],
   "source": [
    "The Fibonacci Sequence is a series of numbers where each number is the sum of the two previous ones\n",
    "\n",
    "0, 1, 1, 2, 3, 5, 8, 13, ...\n",
    "\n",
    "fib(0) = 0\n",
    "fib(1) = 1\n",
    "fib(2) = fib(1) + fib(0) = 1\n",
    "fib(3) = fib(2) + fib(1) = 2\n",
    "fib(4) = fib(3) + fib(2) = 3\n",
    "fib(5) = fib(4) + fib(3) = 5\n",
    "fib(6) = fib(5) + fib(4) = 8 ✅\n",
    "\n",
    "\n",
    "fib(6)\n",
    "├── fib(5)\n",
    "│   ├── fib(4)\n",
    "│   │   ├── fib(3)\n",
    "│   │   │   ├── fib(2)\n",
    "│   │   │   │   ├── fib(1) → 1\n",
    "│   │   │   │   └── fib(0) → 0\n",
    "│   │   │   └── fib(1) → 1\n",
    "│   │   └── fib(2)\n",
    "│   │       ├── fib(1) → 1\n",
    "│   │       └── fib(0) → 0\n",
    "│   └── fib(3)\n",
    "│       ├── fib(2)\n",
    "│       │   ├── fib(1) → 1\n",
    "│       │   └── fib(0) → 0\n",
    "│       └── fib(1) → 1\n",
    "└── fib(4)\n",
    "    ├── fib(3)\n",
    "    │   ├── fib(2)\n",
    "    │   │   ├── fib(1) → 1\n",
    "    │   │   └── fib(0) → 0\n",
    "    │   └── fib(1) → 1\n",
    "    └── fib(2)\n",
    "        ├── fib(1) → 1\n",
    "        └── fib(0) → 0"
   ]
  },
  {
   "cell_type": "code",
   "execution_count": null,
   "id": "e7562d24-08b0-4fb5-9e46-d75114392845",
   "metadata": {},
   "outputs": [],
   "source": [
    "## Top-Down DP (with Memoization)\n",
    "\n",
    "def fib_memo(n, memo={}):\n",
    "    if n in memo:\n",
    "        return memo[n]\n",
    "    if n <= 1:\n",
    "        return n\n",
    "    memo[n] = fib_memo(n-1, memo) + fib_memo(n-2, memo)\n",
    "    return memo[n]\n",
    "\n",
    "print(fib_memo(50))  # Fast! Output: 12586269025\n",
    "\n",
    "## Saves answers in a memo dict."
   ]
  },
  {
   "cell_type": "code",
   "execution_count": null,
   "id": "e2948499-e5af-45c4-8bc7-65d8ccad740a",
   "metadata": {},
   "outputs": [],
   "source": [
    "## Instead of recalculating the same Fibonacci numbers again and again, it saves the results in a dictionary called memo.\n",
    "memo = {\n",
    "    2: 1,\n",
    "    3: 2,\n",
    "    4: 3,\n",
    "    ...\n",
    "    49: 7778742049,\n",
    "    50: 12586269025  ✅\n",
    "}\n",
    "Each fib(n) is computed only once, then reused\n",
    "Memoization - O(n) (Fast!)\n",
    "\n",
    "## How memo buils up \n",
    "Start:\n",
    "memo = {}\n",
    "\n",
    "Compute:\n",
    "fib(2) → 1      memo = {2: 1}\n",
    "fib(3) → 2      memo = {2: 1, 3: 2}\n",
    "fib(4) → 3      memo = {2: 1, 3: 2, 4: 3}\n",
    "...\n",
    "fib(50) → 12586269025 ✅"
   ]
  },
  {
   "cell_type": "code",
   "execution_count": 110,
   "id": "550a7543-6e9b-4f73-b843-49c513f2944e",
   "metadata": {},
   "outputs": [
    {
     "name": "stdout",
     "output_type": "stream",
     "text": [
      "12586269025\n"
     ]
    }
   ],
   "source": [
    "## Bottom Up DP (Tabulation) \n",
    "\n",
    "def fib_tab(n): \n",
    "    dp = [0,1]\n",
    "    for i in range(2 , n+1): \n",
    "         dp.append(dp[i-1] + dp[i-2])\n",
    "    return dp[n]\n",
    "print(fib_tab(50)) "
   ]
  },
  {
   "cell_type": "code",
   "execution_count": null,
   "id": "7d723e1e-0969-4481-9a52-c2bb74a62fa9",
   "metadata": {},
   "outputs": [],
   "source": [
    "## Uses a table (dp list) to store previous results.\n",
    "## Builds from the bottom up: starts with fib(0) and fib(1), then calculates fib(2), fib(3), …, up to fib(n) step by step\n",
    "\n",
    "dp = [0, 1]   # Start\n",
    "\n",
    "i = 2: dp[2] = dp[1] + dp[0] = 1 + 0 = 1\n",
    "i = 3: dp[3] = dp[2] + dp[1] = 1 + 1 = 2\n",
    "i = 4: dp[4] = dp[3] + dp[2] = 2 + 1 = 3\n",
    "i = 5: dp[5] = dp[4] + dp[3] = 3 + 2 = 5\n",
    "i = 6: dp[6] = dp[5] + dp[4] = 5 + 3 = 8 ✅\n",
    "\n",
    "Final dp = [0, 1, 1, 2, 3, 5, 8]\n"
   ]
  },
  {
   "cell_type": "code",
   "execution_count": 112,
   "id": "bfea5d62-91e3-4fe3-81ee-c6c4843d7db0",
   "metadata": {},
   "outputs": [
    {
     "name": "stdout",
     "output_type": "stream",
     "text": [
      "12586269025\n"
     ]
    }
   ],
   "source": [
    "## Space Optimized Version\n",
    "def fib_space_opt(n):\n",
    "    a, b = 0, 1\n",
    "    for _ in range(2, n+1):\n",
    "        a, b = b, a + b\n",
    "    return b if n else a\n",
    "\n",
    "print(fib_space_opt(50))  # Output: 12586269025"
   ]
  },
  {
   "cell_type": "code",
   "execution_count": null,
   "id": "03a16abb-4f95-4ff2-9bc9-14520ae1edcd",
   "metadata": {},
   "outputs": [],
   "source": [
    "Time & Space Complexity\n",
    " Time - O(n)\n",
    " Space - O(n) (can be optimized to O(1) if only storing last 2 numbers)"
   ]
  },
  {
   "cell_type": "code",
   "execution_count": 118,
   "id": "2323c483-f8a4-4517-a26b-1e0771ade8c8",
   "metadata": {},
   "outputs": [
    {
     "name": "stdout",
     "output_type": "stream",
     "text": [
      "8\n"
     ]
    }
   ],
   "source": [
    "## challenge Climbing stairs \n",
    "\n",
    "## you can climb n stairs taking 1 or 2 stepts at a time \n",
    "## how many ways you can reach the top \n",
    "\n",
    "def climb_stairs(n):\n",
    "    if n <= 2:\n",
    "        return n\n",
    "\n",
    "    dp = [0, 1, 2]\n",
    "    for i in range(3, n+1):\n",
    "        dp.append(dp[i-1] + dp[i-2])\n",
    "\n",
    "    return dp[n]\n",
    "\n",
    "print(climb_stairs(5))  # Output: 8"
   ]
  },
  {
   "cell_type": "code",
   "execution_count": null,
   "id": "622d3f10-27ae-449d-a758-344573aadc5d",
   "metadata": {},
   "outputs": [],
   "source": [
    "## DP Grids , paths & Tables \n",
    "# Unique Paths (Robot Grid Problem) \n",
    "\n",
    "- In an m x n grid , a robot starts at top-left and can only move right or down \n",
    "find how many unique paths exist to the bottom right corner "
   ]
  },
  {
   "cell_type": "code",
   "execution_count": null,
   "id": "a69c683a-b3c3-444f-ba90-17e2dd5e6f8f",
   "metadata": {},
   "outputs": [],
   "source": [
    "def unique_paths(m, n):\n",
    "    dp = [[1] * n for _ in range(m)]  # 1 way to fill top row/left col\n",
    "\n",
    "    for i in range(1, m):\n",
    "        for j in range(1, n):\n",
    "            dp[i][j] = dp[i-1][j] + dp[i][j-1]  # From top + left\n",
    "\n",
    "    return dp[m-1][n-1]\n",
    "\n",
    "print(unique_paths(3, 3))  # Output: 6"
   ]
  },
  {
   "cell_type": "code",
   "execution_count": null,
   "id": "b7edf93c-33d7-439c-91af-b8adc0f13177",
   "metadata": {},
   "outputs": [],
   "source": [
    "      ➡️     ➡️\n",
    "   1 ───▶ 1 ───▶ 1\n",
    "   ⬇️      ⬇️     ⬇️\n",
    "   1 ───▶ 2 ───▶ 3\n",
    "   ⬇️      ⬇️     ⬇️\n",
    "   1 ───▶ 3 ───▶ 6"
   ]
  },
  {
   "cell_type": "code",
   "execution_count": null,
   "id": "3ec2818c-0889-4f81-bbe5-2e8bf537a231",
   "metadata": {},
   "outputs": [],
   "source": [
    "## Minimum Path Sum ( grid with costs) "
   ]
  },
  {
   "cell_type": "code",
   "execution_count": null,
   "id": "640d190a-b006-484a-a226-a63b4fa01d30",
   "metadata": {},
   "outputs": [],
   "source": [
    "Each cell in a grid contains a number find a path from top left to botton right with minimum sum only move right or down "
   ]
  },
  {
   "cell_type": "code",
   "execution_count": 120,
   "id": "23147b6d-0fbe-484f-8538-c0bd7414dc20",
   "metadata": {},
   "outputs": [
    {
     "name": "stdout",
     "output_type": "stream",
     "text": [
      "7\n"
     ]
    }
   ],
   "source": [
    "def min_path_sum(grid):\n",
    "    m, n = len(grid), len(grid[0])\n",
    "\n",
    "    # First column\n",
    "    for i in range(1, m):\n",
    "        grid[i][0] += grid[i-1][0]\n",
    "    # First row\n",
    "    for j in range(1, n):\n",
    "        grid[0][j] += grid[0][j-1]\n",
    "\n",
    "    # Fill rest of the grid\n",
    "    for i in range(1, m):\n",
    "        for j in range(1, n):\n",
    "            grid[i][j] += min(grid[i-1][j], grid[i][j-1])\n",
    "\n",
    "    return grid[m-1][n-1]\n",
    "\n",
    "grid = [\n",
    "    [1, 3, 1],\n",
    "    [1, 5, 1],\n",
    "    [4, 2, 1]\n",
    "]\n",
    "\n",
    "print(min_path_sum(grid))  # Output: 7"
   ]
  },
  {
   "cell_type": "code",
   "execution_count": null,
   "id": "1104448a-6fdc-41ca-bf54-3d38b99721aa",
   "metadata": {},
   "outputs": [],
   "source": [
    "Start\n",
    " ↓     →     →\n",
    " 1 →→→ 3 →→→ 1\n",
    " ↓          ↓\n",
    " 1          1\n",
    " ↓          ↓\n",
    " 4 →→→ 2 →→→ 7  ✅"
   ]
  },
  {
   "cell_type": "code",
   "execution_count": null,
   "id": "adfad160-3a7d-4662-8598-5d270bbf774b",
   "metadata": {},
   "outputs": [],
   "source": [
    "3. Longest Common Subsequence (LCS)\n",
    "Given two strings, find the length of the longest subsequence common to both.\n",
    "\n",
    "Note: A subsequence is a sequence that appears in the same order but not necessarily consecutively.\n"
   ]
  },
  {
   "cell_type": "code",
   "execution_count": 122,
   "id": "90c57e57-6946-4410-9e69-d4f564616338",
   "metadata": {},
   "outputs": [
    {
     "name": "stdout",
     "output_type": "stream",
     "text": [
      "3\n"
     ]
    }
   ],
   "source": [
    "def lcs(text1, text2):\n",
    "    m, n = len(text1), len(text2)\n",
    "    dp = [[0] * (n + 1) for _ in range(m + 1)]  # Extra row/col for empty strings\n",
    "\n",
    "    for i in range(1, m + 1):\n",
    "        for j in range(1, n + 1):\n",
    "            if text1[i - 1] == text2[j - 1]:\n",
    "                dp[i][j] = 1 + dp[i - 1][j - 1]\n",
    "            else:\n",
    "                dp[i][j] = max(dp[i - 1][j], dp[i][j - 1])\n",
    "\n",
    "    return dp[m][n]\n",
    "\n",
    "print(lcs(\"abcde\", \"ace\"))  # Output: 3 (common: \"ace\")"
   ]
  },
  {
   "cell_type": "code",
   "execution_count": null,
   "id": "1298e092-fd40-4e71-a411-cab79321f930",
   "metadata": {},
   "outputs": [],
   "source": [
    "We’ll create a 6x4 grid (because len(\"abcde\") = 5 and len(\"ace\") = 3) with extra row and column for the base cases\n",
    "      a   c   e\n",
    "    ┌───┬───┬───┬───┐\n",
    "  ┌─┤ 0 │ 0 │ 0 │ 0 │\n",
    "a │ 0│ ↖1│ ←1│ ←1│\n",
    "b │ 0│ ↑1│ ←1│ ←1│\n",
    "c │ 0│ ↑1│ ↖2│ ←2│\n",
    "d │ 0│ ↑1│ ↑2│ ←2│\n",
    "e │ 0│ ↑1│ ↑2│ ↖3│"
   ]
  },
  {
   "cell_type": "code",
   "execution_count": null,
   "id": "bdbbc858-b6d9-48fd-aefa-ea9d0997c307",
   "metadata": {},
   "outputs": [],
   "source": [
    "🔁 How the grid was filled:\n",
    "\t1.\ta == a → ↖ 1\n",
    "\t2.\tb ≠ a, b ≠ c, b ≠ e → take max of ↑ or ←\n",
    "\t3.\tc == c → ↖ 2\n",
    "\t4.\te == e → ↖ 3"
   ]
  }
 ],
 "metadata": {
  "kernelspec": {
   "display_name": "Python [conda env:base] *",
   "language": "python",
   "name": "conda-base-py"
  },
  "language_info": {
   "codemirror_mode": {
    "name": "ipython",
    "version": 3
   },
   "file_extension": ".py",
   "mimetype": "text/x-python",
   "name": "python",
   "nbconvert_exporter": "python",
   "pygments_lexer": "ipython3",
   "version": "3.11.7"
  }
 },
 "nbformat": 4,
 "nbformat_minor": 5
}
