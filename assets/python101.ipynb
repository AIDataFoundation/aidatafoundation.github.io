{
 "cells": [
  {
   "cell_type": "code",
   "execution_count": null,
   "id": "af3fbf25-0a45-468e-9ea3-8e59c043fb8a",
   "metadata": {},
   "outputs": [],
   "source": [
    "### List and loops - Level 1 \n",
    "\n",
    "- list store multipe values \n",
    "- use 'for` loop to go through them "
   ]
  },
  {
   "cell_type": "code",
   "execution_count": 1,
   "id": "c86be3ed-80aa-46f7-9db8-06af175366af",
   "metadata": {},
   "outputs": [
    {
     "name": "stdout",
     "output_type": "stream",
     "text": [
      "2\n",
      "6\n",
      "10\n",
      "15.8\n"
     ]
    }
   ],
   "source": [
    "numbers = [1,3,5,7.9]\n",
    "## TODO :  Print each number multplied by 2\n",
    "for num in numbers:\n",
    "    print(num *2)"
   ]
  },
  {
   "cell_type": "code",
   "execution_count": null,
   "id": "5676b21b-0ca6-49e4-97d5-f408402d98a0",
   "metadata": {},
   "outputs": [],
   "source": [
    "## mini quiz \n",
    "Q1. What is the index of number 5 in the list \n",
    "Q2> How do you change 7 to 100 ?"
   ]
  },
  {
   "cell_type": "code",
   "execution_count": null,
   "id": "08f113a8-4072-4141-bb61-40675f919dc9",
   "metadata": {},
   "outputs": [],
   "source": [
    "## stack - Level 2 \n",
    "- Last in first out ( like a stack or pankcakes)\n",
    "- use `append()` and `pop` in python "
   ]
  },
  {
   "cell_type": "code",
   "execution_count": 3,
   "id": "83102184-44fa-47fb-bf3b-bd2810692eef",
   "metadata": {},
   "outputs": [
    {
     "name": "stdout",
     "output_type": "stream",
     "text": [
      "POP: 🧱 Block 2\n",
      "Stack now: ['🧱 Block 1']\n"
     ]
    }
   ],
   "source": [
    "stack = []\n",
    "\n",
    "stack.append(\"🧱 Block 1\")\n",
    "stack.append(\"🧱 Block 2\")\n",
    "print(\"POP:\", stack.pop())  # Block 2\n",
    "print(\"Stack now:\", stack)"
   ]
  },
  {
   "cell_type": "code",
   "execution_count": 5,
   "id": "5f0f924f-50d5-4319-bb94-3dc898688947",
   "metadata": {},
   "outputs": [
    {
     "name": "stdout",
     "output_type": "stream",
     "text": [
      "30\n",
      "20\n",
      "10\n"
     ]
    }
   ],
   "source": [
    "# Challenge: Reverse a list using a stack\n",
    "my_list = [10, 20, 30]\n",
    "stack = []\n",
    "\n",
    "# PUSH\n",
    "for item in my_list:\n",
    "    stack.append(item)\n",
    "\n",
    "# POP\n",
    "while stack:\n",
    "    print(stack.pop())"
   ]
  },
  {
   "cell_type": "code",
   "execution_count": null,
   "id": "e2d37c5b-1a9c-4982-a129-3f336bca1c39",
   "metadata": {},
   "outputs": [],
   "source": [
    "## String and Patterns - The Nijan of text \n",
    "\n",
    "- string indexing and slicing \n",
    "- you can use indexing to access charcater and slicing to extract parts \n"
   ]
  },
  {
   "cell_type": "code",
   "execution_count": 7,
   "id": "d4ab616b-36ba-4929-a2ee-dc225d004bd8",
   "metadata": {},
   "outputs": [
    {
     "name": "stdout",
     "output_type": "stream",
     "text": [
      "First letter: p\n",
      "Last letter: n\n",
      "First 3 letters: pyt\n",
      "Reversed word: nohtyp\n"
     ]
    }
   ],
   "source": [
    "word = \"python\"\n",
    "\n",
    "print(\"First letter:\", word[0])        # Output: p\n",
    "print(\"Last letter:\", word[-1])        # Output: n\n",
    "print(\"First 3 letters:\", word[:3])    # Output: pyt\n",
    "print(\"Reversed word:\", word[::-1])    # Output: nohtyp"
   ]
  },
  {
   "cell_type": "code",
   "execution_count": null,
   "id": "d22b1f92-081c-4285-b615-ea96203b00d3",
   "metadata": {},
   "outputs": [],
   "source": [
    "## Palindrome Checker \n",
    "\n",
    "- A string is a palindorme if it reads the same backend \n",
    "- example : madam , racecar "
   ]
  },
  {
   "cell_type": "code",
   "execution_count": 23,
   "id": "4546b9e4-24e8-41ef-9270-b7e5d5e6d5c3",
   "metadata": {},
   "outputs": [
    {
     "name": "stdout",
     "output_type": "stream",
     "text": [
      "True\n",
      "False\n"
     ]
    }
   ],
   "source": [
    "def is_palindrome(s):\n",
    "    return s == s[::-1]\n",
    "print(is_palindrome(\"madam\"))  #true\n",
    "print(is_palindrome(\"pthon\"))  #false"
   ]
  },
  {
   "cell_type": "code",
   "execution_count": null,
   "id": "d0634391-a22a-487e-b252-97fc0ff1d554",
   "metadata": {},
   "outputs": [],
   "source": [
    "### Frequency Counter \n",
    "- count how many times each letter appears \n",
    "- use in Puzzles , security and AI Token analysis , etc "
   ]
  },
  {
   "cell_type": "code",
   "execution_count": 25,
   "id": "5a0ad4b6-7f08-41c7-a521-4248d9f4d76f",
   "metadata": {},
   "outputs": [
    {
     "name": "stdout",
     "output_type": "stream",
     "text": [
      "{'b': 1, 'a': 3, 'n': 2}\n"
     ]
    }
   ],
   "source": [
    "def char_frequency(s):\n",
    "    freq = {}\n",
    "    for char in s:\n",
    "        freq[char] = freq.get(char, 0) + 1\n",
    "    return freq\n",
    "\n",
    "print(char_frequency(\"banana\"))  \n",
    "# Output: {'b': 1, 'a': 3, 'n': 2}"
   ]
  },
  {
   "cell_type": "code",
   "execution_count": null,
   "id": "dce26bb1-4f7a-483d-9d5e-31a764bd3715",
   "metadata": {},
   "outputs": [],
   "source": [
    "## sliding window pattern \n",
    "\n",
    "- used to analyze sub-parts odf string effeciently \n",
    "- here : find the max number of vowels in a substring of size k "
   ]
  },
  {
   "cell_type": "code",
   "execution_count": 27,
   "id": "0b8d1898-8c11-4af1-ad51-895369ccec00",
   "metadata": {},
   "outputs": [
    {
     "name": "stdout",
     "output_type": "stream",
     "text": [
      "5\n"
     ]
    }
   ],
   "source": [
    "def max_vowels(s, k):\n",
    "    vowels = \"aeiou\"\n",
    "    max_count = count = 0\n",
    "\n",
    "    for i in range(len(s)):\n",
    "        if s[i] in vowels:\n",
    "            count += 1\n",
    "        if i >= k and s[i - k] in vowels:\n",
    "            count -= 1\n",
    "        max_count = max(max_count, count)\n",
    "\n",
    "    return max_count\n",
    "\n",
    "print(max_vowels(\"hellothereaeiou\", 5))  # Output: 5    "
   ]
  },
  {
   "cell_type": "code",
   "execution_count": null,
   "id": "00de3965-c196-4ee7-9150-d09eb0528ac7",
   "metadata": {},
   "outputs": [],
   "source": [
    "## Fisrt Non Peapeating Character \n",
    "- find the first character that doesn't reapeat in as string "
   ]
  },
  {
   "cell_type": "code",
   "execution_count": 38,
   "id": "eab1afa8-85d0-47dc-9142-2da6c6055ff2",
   "metadata": {},
   "outputs": [
    {
     "name": "stdout",
     "output_type": "stream",
     "text": [
      "f\n"
     ]
    }
   ],
   "source": [
    "def first_unique_char(s):\n",
    "    freq = {}\n",
    "    for char in s:\n",
    "         freq[char] = freq.get(char,0) + 1\n",
    "    for char in s:    \n",
    "        if freq[char] == 1:\n",
    "          return char\n",
    "    return None \n",
    "print(first_unique_char(\"aabbccddeeefg\")) #ouput = f"
   ]
  },
  {
   "cell_type": "code",
   "execution_count": null,
   "id": "1149bb84-2b8d-4eb1-8185-f696b9083302",
   "metadata": {},
   "outputs": [],
   "source": [
    "## Binary search and Recursion - Sword & Shield of coders\n",
    "\n",
    "- Binary search \n",
    "- effecient way to search sorted arrays \n",
    "- time complexity : O(log n) - SUPER FAST \n",
    "- Divide the array in half , check middle , repeat "
   ]
  },
  {
   "cell_type": "code",
   "execution_count": 53,
   "id": "9c7843db-99ba-4f5c-aa50-f4166257fdfd",
   "metadata": {},
   "outputs": [
    {
     "name": "stdout",
     "output_type": "stream",
     "text": [
      "2\n"
     ]
    }
   ],
   "source": [
    "def binary_search(arr , target): \n",
    "     low = 0 \n",
    "     high = len(arr) - 1\n",
    "    \n",
    "     while low <= high:\n",
    "      mid = (low + high) // 2 \n",
    "      if arr[mid] == target:\n",
    "          return mid \n",
    "      elif arr[mid] < target:\n",
    "         low = mid + 1 \n",
    "      else:\n",
    "          high = mid - 1 \n",
    "\n",
    "     return -1\n",
    "\n",
    "nums = [1,3,5,7,9,11]\n",
    "print(binary_search(nums,5)) ##output: 2 \n"
   ]
  },
  {
   "cell_type": "code",
   "execution_count": null,
   "id": "f925ef29-127c-4be1-bbd0-2eb2ec6c2281",
   "metadata": {},
   "outputs": [],
   "source": [
    "# What will this return?\n",
    "print(binary_search([10, 20, 30, 40, 50], 40))  # 👉 ?"
   ]
  },
  {
   "cell_type": "code",
   "execution_count": null,
   "id": "2ee07277-eb01-4829-9488-00eeca33ce95",
   "metadata": {},
   "outputs": [],
   "source": [
    "## Recusive Thinking \n",
    "\n",
    "- A function calls itself to break a big task into smaller ones \n",
    "- used in tree algorithms, backtracking , DP "
   ]
  },
  {
   "cell_type": "code",
   "execution_count": 57,
   "id": "f9611cd0-d80c-4c4b-a550-b3ec2a7c3122",
   "metadata": {},
   "outputs": [
    {
     "name": "stdout",
     "output_type": "stream",
     "text": [
      "120\n"
     ]
    }
   ],
   "source": [
    "def factorial(n):\n",
    "    if n == 0 or n == 1:\n",
    "        return 1 \n",
    "    return n * factorial(n -1 ) \n",
    "print(factorial(5)) #output : 120 "
   ]
  },
  {
   "cell_type": "code",
   "execution_count": 64,
   "id": "236919a7-947b-48ed-ab07-280b691c64ad",
   "metadata": {},
   "outputs": [
    {
     "name": "stdout",
     "output_type": "stream",
     "text": [
      "8\n"
     ]
    }
   ],
   "source": [
    "## fibonacci using recusion \n",
    "\n",
    "def fib(n):\n",
    "    if n <= 1:\n",
    "        return n\n",
    "    return fib(n-1) + fib(n-2)\n",
    "\n",
    "print(fib(6))  # Output: 8\n",
    "\n",
    "## note recusive fibonacci is slow - we fix that later with DP ( Dynamic Programming) "
   ]
  },
  {
   "cell_type": "code",
   "execution_count": 76,
   "id": "3b8b0c5f-09c5-4978-843a-795ad983bcf5",
   "metadata": {},
   "outputs": [
    {
     "name": "stdout",
     "output_type": "stream",
     "text": [
      "2\n"
     ]
    }
   ],
   "source": [
    "## binary search with recursion \n",
    "\n",
    "def binary_search_rec(arr,target,low,high):\n",
    "    if low > high:\n",
    "        return -1 \n",
    "    mid = (low + high) \n",
    "    if arr[mid] == target:\n",
    "     return mid \n",
    "    elif arr[mid] < target: \n",
    "       return binary_search_rec(arr , target , mid +1 , high) \n",
    "    else:\n",
    "       return binary_search_rec(arr, target , low , mid - 1) \n",
    "nums = [2, 4, 6, 8, 10]\n",
    "print(binary_search_rec(nums, 6, 0, len(nums)-1))  # Output: 2"
   ]
  },
  {
   "cell_type": "code",
   "execution_count": 89,
   "id": "e101b1b6-3474-414e-9c50-ef01c2758d75",
   "metadata": {},
   "outputs": [
    {
     "name": "stdout",
     "output_type": "stream",
     "text": [
      "5\n"
     ]
    }
   ],
   "source": [
    "## Bonus Puzzle: count Digit recusively \n",
    "def count_digits(n):\n",
    "    if n == 0:\n",
    "        return 0\n",
    "    return 1 + count_digits(n // 10)\n",
    "\n",
    "print(count_digits(12345))  # Output: 5 "
   ]
  },
  {
   "cell_type": "code",
   "execution_count": null,
   "id": "960f5f77-3571-4f26-933b-1c6dc482c21b",
   "metadata": {},
   "outputs": [],
   "source": []
  },
  {
   "cell_type": "code",
   "execution_count": null,
   "id": "ebb89d96-063a-46bd-ad2a-3a6d6053ebac",
   "metadata": {},
   "outputs": [],
   "source": []
  }
 ],
 "metadata": {
  "kernelspec": {
   "display_name": "Python [conda env:base] *",
   "language": "python",
   "name": "conda-base-py"
  },
  "language_info": {
   "codemirror_mode": {
    "name": "ipython",
    "version": 3
   },
   "file_extension": ".py",
   "mimetype": "text/x-python",
   "name": "python",
   "nbconvert_exporter": "python",
   "pygments_lexer": "ipython3",
   "version": "3.11.7"
  }
 },
 "nbformat": 4,
 "nbformat_minor": 5
}
